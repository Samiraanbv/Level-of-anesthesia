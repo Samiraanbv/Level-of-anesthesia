{
  "cells": [
    {
      "cell_type": "code",
      "execution_count": null,
      "metadata": {
        "id": "bDa-bjNpqPMy"
      },
      "outputs": [],
      "source": [
        "### classify EEG signal to predict depth of anesthesia"
      ]
    },
    {
      "cell_type": "markdown",
      "metadata": {
        "id": "MPutMX0AqsZQ"
      },
      "source": [
        "*classify EEG signal to predict depth of anesthesiaclassify EEG signal to predict depth of anesthesia*"
      ]
    },
    {
      "cell_type": "code",
      "execution_count": 1,
      "metadata": {
        "colab": {
          "base_uri": "https://localhost:8080/"
        },
        "id": "VeP-woFJqlhq",
        "outputId": "5a93ea6e-f40a-48a1-a3d8-286435f3bcaa"
      },
      "outputs": [
        {
          "name": "stdout",
          "output_type": "stream",
          "text": [
            "Mounted at /content/drive\n"
          ]
        }
      ],
      "source": [
        "from google.colab import drive\n",
        "drive.mount('/content/drive')"
      ]
    },
    {
      "cell_type": "code",
      "execution_count": 31,
      "metadata": {
        "colab": {
          "base_uri": "https://localhost:8080/"
        },
        "id": "sHsuxyEwq7Mr",
        "outputId": "61435fb2-7a1f-48ce-9eb4-b6e8ee5f4ec5"
      },
      "outputs": [
        {
          "name": "stdout",
          "output_type": "stream",
          "text": [
            "dict_keys(['__header__', '__version__', '__globals__', 'SaEn', 'PeEn'])\n"
          ]
        }
      ],
      "source": [
        "import scipy.io as sio\n",
        "\n",
        "mat = sio.loadmat('/content/drive/MyDrive/biopaper/matlab.mat')\n",
        "print(mat.keys())\n",
        "f1 = mat['SaEn']\n",
        "# print(f1)"
      ]
    },
    {
      "cell_type": "code",
      "execution_count": 10,
      "metadata": {
        "colab": {
          "base_uri": "https://localhost:8080/",
          "height": 352
        },
        "id": "c0aUMEdDrzsq",
        "outputId": "df7a5cc4-f8a4-45e0-eb90-696bda8031a0"
      },
      "outputs": [
        {
          "data": {
            "image/png": "[encoded data removed]",
            "text/plain": [
              "<Figure size 432x288 with 1 Axes>"
            ]
          },
          "metadata": {
            "needs_background": "light"
          },
          "output_type": "display_data"
        }
      ],
      "source": [
        "import pandas as pd\n",
        "a = pd.read_excel('/content/drive/MyDrive/biopaper/Book1.xlsx')\n",
        "feat = a.to_numpy()\n",
        "# 'SaEn'\n",
        "# 'PeEn'\n",
        "# 'FREQ_beta'\n",
        "# 'DFA'\n",
        "import matplotlib.pyplot as plt\n",
        "import numpy as np\n",
        "\n",
        "f1 = feat[:,0]\n",
        "data_1 = f1[:68,]\n",
        "data_2 = f1[68:68*2,]\n",
        "data_3 = f1[68*2:68*3,]\n",
        "data_4 = f1[68*3:68*4,]\n",
        "data = [data_1, data_2, data_3, data_4]\n",
        "\n",
        "fig = plt.figure(figsize = (6,4))\n",
        "\n",
        "ax = fig.add_axes([0,0,1,1])\n",
        "\n",
        "bp = ax.boxplot(data)\n",
        "\n",
        "plt.title('SaEn')\n",
        "plt.show()"
      ]
    },
    {
      "cell_type": "code",
      "execution_count": 11,
      "metadata": {
        "colab": {
          "base_uri": "https://localhost:8080/",
          "height": 352
        },
        "id": "R9fDI0_jtybH",
        "outputId": "56cdb687-0bbf-469e-bab3-5093c6050d70"
      },
      "outputs": [
        {
          "data": {
            "image/png": "[encoded data removed]",
            "text/plain": [
              "<Figure size 432x288 with 1 Axes>"
            ]
          },
          "metadata": {
            "needs_background": "light"
          },
          "output_type": "display_data"
        }
      ],
      "source": [
        "import matplotlib.pyplot as plt\n",
        "import numpy as np\n",
        "\n",
        "f1 = feat[:,1]\n",
        "data_1 = f1[:68,]\n",
        "data_2 = f1[68:68*2,]\n",
        "data_3 = f1[68*2:68*3,]\n",
        "data_4 = f1[68*3:68*4,]\n",
        "data = [data_1, data_2, data_3, data_4]\n",
        "\n",
        "fig = plt.figure(figsize = (6,4))\n",
        "\n",
        "ax = fig.add_axes([0,0,1,1])\n",
        "\n",
        "bp = ax.boxplot(data)\n",
        "\n",
        "plt.title('PeEn')\n",
        "plt.show()"
      ]
    },
    {
      "cell_type": "code",
      "execution_count": 13,
      "metadata": {
        "id": "h3c27OW2uGeA"
      },
      "outputs": [],
      "source": [
        "labels = np.concatenate((np.ones(68,)*0, np.ones(68,)*1,\n",
        "                        np.ones(68,)*2, np.ones(68,)*3), axis = 0)"
      ]
    },
    {
      "cell_type": "code",
      "execution_count": 16,
      "metadata": {
        "colab": {
          "base_uri": "https://localhost:8080/"
        },
        "id": "kjf-HYsWukRU",
        "outputId": "b223fed8-4e96-42ae-fc63-ced31834e1c0"
      },
      "outputs": [
        {
          "name": "stdout",
          "output_type": "stream",
          "text": [
            "[ 1.66723559  0.84125368  0.77875841 -1.41050264]\n",
            "[0.32946796 0.35415523 0.11606536 1.33618373]\n"
          ]
        }
      ],
      "source": [
        "## Normalization \n",
        "## Standardization, or mean removal and variance scaling\n",
        "\n",
        "from sklearn import preprocessing\n",
        "import numpy as np\n",
        "\n",
        "scaler = preprocessing.StandardScaler().fit(feat)\n",
        "\n",
        "print(scaler.mean_)\n",
        "print(scaler.scale_)\n",
        "\n",
        "X_scaled = scaler.transform(feat) "
      ]
    },
    {
      "cell_type": "code",
      "execution_count": 28,
      "metadata": {
        "id": "YNDJwxbOvkDW"
      },
      "outputs": [],
      "source": [
        "from sklearn.model_selection import train_test_split\n",
        "features_train, features_test, labels_train, labels_test = train_test_split(X_scaled, \n",
        "                                            labels, test_size=0.20, random_state=0, shuffle= True)\n"
      ]
    },
    {
      "cell_type": "code",
      "execution_count": 29,
      "metadata": {
        "colab": {
          "base_uri": "https://localhost:8080/"
        },
        "id": "vvZj1PJEv5zX",
        "outputId": "59b307b8-e1f9-4ca7-d95d-729df6b37ba7"
      },
      "outputs": [
        {
          "name": "stdout",
          "output_type": "stream",
          "text": [
            "[3. 3. 2. 1. 3. 2. 1. 2. 3. 3. 3. 2. 3. 1. 1. 0. 0. 2. 0. 2. 1. 1. 3. 2.\n",
            " 0. 3. 1. 3. 2. 3. 2. 1. 1. 2. 2. 2. 3. 1. 0. 3. 1. 2. 2. 1. 3. 3. 2. 2.\n",
            " 0. 0. 3. 2. 0. 1. 2.]\n",
            "[3. 3. 2. 1. 3. 2. 1. 2. 0. 3. 3. 2. 3. 1. 1. 0. 0. 2. 0. 2. 0. 1. 3. 2.\n",
            " 0. 0. 1. 3. 2. 3. 2. 1. 1. 2. 1. 2. 3. 1. 0. 3. 1. 2. 2. 1. 0. 3. 2. 2.\n",
            " 3. 0. 3. 2. 0. 1. 2.]\n",
            "Train accuracy :  0.9585253456221198\n",
            "Test accuracy :  0.8909090909090909\n"
          ]
        },
        {
          "name": "stderr",
          "output_type": "stream",
          "text": [
            "/usr/local/lib/python3.8/dist-packages/sklearn/neural_network/_multilayer_perceptron.py:549: ConvergenceWarning: lbfgs failed to converge (status=1):\n",
            "STOP: TOTAL NO. of ITERATIONS REACHED LIMIT.\n",
            "\n",
            "Increase the number of iterations (max_iter) or scale the data as shown in:\n",
            "    https://scikit-learn.org/stable/modules/preprocessing.html\n",
            "  self.n_iter_ = _check_optimize_result(\"lbfgs\", opt_res, self.max_iter)\n"
          ]
        }
      ],
      "source": [
        "from sklearn.neural_network import MLPClassifier\n",
        "\n",
        "clf = MLPClassifier(max_iter = 50, solver = 'lbfgs', activation= 'relu',\n",
        "                    hidden_layer_sizes=( 15,11 ,4 ),random_state = 1)\n",
        "\n",
        "clf.fit(features_train,labels_train)\n",
        "estimated_label = clf.predict(features_test)\n",
        "print(estimated_label)\n",
        "print(labels_test)\n",
        "\n",
        "accuracy = clf.score(features_train,labels_train)\n",
        "print(\"Train accuracy : \", accuracy)\n",
        "\n",
        "accuracy = clf.score(features_test,labels_test)\n",
        "print(\"Test accuracy : \", accuracy)\n"
      ]
    },
    {
      "cell_type": "code",
      "execution_count": 32,
      "metadata": {
        "colab": {
          "base_uri": "https://localhost:8080/",
          "height": 712
        },
        "id": "7j7cadge7nW6",
        "outputId": "a6057a39-f1eb-4c2f-97a5-9fc9ae806ac8"
      },
      "outputs": [
        {
          "name": "stdout",
          "output_type": "stream",
          "text": [
            "[[ 7  1  0  3]\n",
            " [ 0 12  1  0]\n",
            " [ 0  0 17  0]\n",
            " [ 1  0  0 13]]\n",
            "[[0.63636364 0.09090909 0.         0.27272727]\n",
            " [0.         0.92307692 0.07692308 0.        ]\n",
            " [0.         0.         1.         0.        ]\n",
            " [0.07142857 0.         0.         0.92857143]]\n"
          ]
        },
        {
          "data": {
            "image/png": "[encoded data removed]",
            "text/plain": [
              "<Figure size 432x288 with 2 Axes>"
            ]
          },
          "metadata": {
            "needs_background": "light"
          },
          "output_type": "display_data"
        },
        {
          "data": {
            "image/png": "[encoded data removed]",
            "text/plain": [
              "<Figure size 432x288 with 2 Axes>"
            ]
          },
          "metadata": {
            "needs_background": "light"
          },
          "output_type": "display_data"
        }
      ],
      "source": [
        "from sklearn.metrics import ConfusionMatrixDisplay\n",
        "title_options = [\n",
        "    (\"Confusion matrix, without normalization\", None),\n",
        "    (\"Normalized confusion matrix\", \"true\")\n",
        "]\n",
        "\n",
        "for title, normalize in title_options:\n",
        "    disp = ConfusionMatrixDisplay.from_predictions(\n",
        "        labels_test,\n",
        "        estimated_label,\n",
        "        # display_labels = load_iris().target_names,\n",
        "        display_labels = ['Awake','Light Anesthesia','Normal Anesthesia', 'Deep Anesthesia'],\n",
        "        normalize= normalize\n",
        "    )\n",
        "    disp.ax_.set_title(title)\n",
        "    print(disp.confusion_matrix)\n",
        "\n",
        "plt.show()\n"
      ]
    },
    {
      "cell_type": "code",
      "execution_count": null,
      "metadata": {},
      "outputs": [],
      "source": [
        "## t"
      ]
    }
  ],
  "metadata": {
    "colab": {
      "provenance": []
    },
    "kernelspec": {
      "display_name": "tensorflow",
      "language": "python",
      "name": "python3"
    },
    "language_info": {
      "name": "python",
      "version": "3.8.11"
    },
    "vscode": {
      "interpreter": {
        "hash": "d13fc171b589be29e0bae58275c85639dadb2cb5b01257bd0892d33323078ec5"
      }
    }
  },
  "nbformat": 4,
  "nbformat_minor": 0
}
